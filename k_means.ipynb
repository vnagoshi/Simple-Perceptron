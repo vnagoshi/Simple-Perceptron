{
 "cells": [
  {
   "cell_type": "code",
   "execution_count": 67,
   "metadata": {},
   "outputs": [],
   "source": [
    "import pandas as pd\n",
    "import numpy as np\n",
    "import matplotlib.pyplot as plt\n",
    "import math"
   ]
  },
  {
   "cell_type": "code",
   "execution_count": 406,
   "metadata": {},
   "outputs": [],
   "source": [
    "# @param m, number of guassians to generate from\n",
    "# @param n, number of datapoints to draw from each guassian\n",
    "# @param x_bound, tuple containing the low and high bound for x\n",
    "# @param y_bound, tuple containing the low and high bound for y\n",
    "def generate_guassian_data(m, n, x_bound, y_bound, sigma):\n",
    "    data = pd.DataFrame()\n",
    "    centers = pd.DataFrame()\n",
    "    for i in range(m):\n",
    "        mx = np.random.uniform(x_bound[0], x_bound[1])\n",
    "        my = np.random.uniform(y_bound[0], y_bound[1])\n",
    "        centers.append([[mx, my]])#TODO bugged\n",
    "        for j in range(n):\n",
    "            temp = pd.DataFrame([[np.random.normal(mx, sigma), np.random.normal(my, sigma), i]])\n",
    "            data = data.append(temp)\n",
    "    data.columns = ['X', 'Y', 'Target']\n",
    "    return data.reset_index(drop=True), centers"
   ]
  },
  {
   "cell_type": "code",
   "execution_count": 407,
   "metadata": {},
   "outputs": [],
   "source": [
    "def k_means(data, k, x_bound, y_bound, verbose=False):\n",
    "    centroids = pd.DataFrame()\n",
    "    for i in range(k):\n",
    "        temp = pd.DataFrame([[np.random.uniform(x_bound[0], x_bound[1]), np.random.uniform(y_bound[0], y_bound[1])]])\n",
    "        centroids = centroids.append(temp)\n",
    "    centroids = centroids.reset_index(drop=True)\n",
    "    centroids.columns = ['X', 'Y']\n",
    "    \n",
    "    if(verbose):\n",
    "        plt.figure(figsize=(16,6))\n",
    "        plt.subplot(1, 2, 1)\n",
    "        plt.title('Initial State')\n",
    "        plt.scatter(data['X'], data['Y'])\n",
    "        plt.scatter(centroids['X'], centroids['Y'], marker='*', s=150)\n",
    "    \n",
    "    data['Cluster'] = -1\n",
    "    oldc = centroids - centroids\n",
    "    \n",
    "    iterations = 0\n",
    "    \n",
    "    while (centroids['X'] - oldc['X']).sum() != 0 or (centroids['Y'] - oldc['Y']).sum() != 0: \n",
    "        find_clusters(centroids, data)\n",
    "        oldc['X'] = centroids['X']\n",
    "        oldc['Y'] = centroids['Y']\n",
    "        update_centroids(data, centroids)\n",
    "        iterations += 1\n",
    "        \n",
    "    check_correct_labels(data)\n",
    "    \n",
    "    if verbose:\n",
    "        plt.subplot(1, 2, 2)\n",
    "        plt.title('Final State')\n",
    "        plt.scatter(data['X'], data['Y'], c=data['Cluster'])\n",
    "        plt.scatter(centroids['X'], centroids['Y'], marker='*', s=150, linewidths=1, edgecolors='black')\n",
    "        plt.show()\n",
    "        \n",
    "    return centroids, iterations\n",
    "    \n",
    "def find_clusters(centroids, data):\n",
    "    for i in range(len(data)):\n",
    "        d = data.loc[[i]]\n",
    "        min_dist = math.sqrt(((centroids.loc[0]['X'] - d['X']) ** 2) + ((centroids.loc[0]['Y'] - d['Y']) ** 2))\n",
    "        clust = 0\n",
    "        for j in range(len(centroids)):\n",
    "            dist = math.sqrt(((centroids.loc[j]['X'] - d['X']) ** 2) + ((centroids.loc[j]['Y'] - d['Y']) ** 2))\n",
    "            if dist < min_dist:\n",
    "                min_dist = dist\n",
    "                clust = j\n",
    "        data.at[i, 'Cluster'] = clust\n",
    "\n",
    "def update_centroids(data, centroids):\n",
    "    for i in range(len(centroids)):\n",
    "        points = data.loc[data['Cluster'] == i]\n",
    "        if len(points) > 0:\n",
    "            centroids.at[i, 'X'] = points['X'].sum() / len(points)\n",
    "            centroids.at[i, 'Y'] = points['Y'].sum() / len(points)\n",
    "    \n",
    "def check_correct_labels(data):\n",
    "    mapping = pd.DataFrame()\n",
    "    mapping['Cluster'] = range(max(data['Target']) + 1)\n",
    "    mapping['Target'] = -1\n",
    "    \n",
    "    hold = [1]\n",
    "    for i in range(len(mapping)):\n",
    "        r = data.loc[data['Cluster'] == i]\n",
    "        if len(r) != 0:\n",
    "            mode = r['Target'].mode()\n",
    "            if len(mode) > 1:\n",
    "                mapping.at[i, 'Target'] = mode[0]\n",
    "                for j in mode[1:]:\n",
    "                    hold.append(j)\n",
    "            else:\n",
    "                if len(mapping.loc[mapping['Target'] == mode[0]]) == 0:\n",
    "                    mapping.at[i, 'Target'] = mode[0]\n",
    "    for k in range(len(mapping)):\n",
    "        for i in range(len(mapping)):\n",
    "            if mapping.iloc[i]['Target'] == -1 and len(mapping.loc[mapping['Target'] == k]) == 0 :\n",
    "                mapping.at[i, 'Target'] = k\n",
    "    for i in range(len(data)):\n",
    "        mapped_target = mapping.loc[mapping['Target'] == data.loc[i]['Target']]['Cluster'].reset_index(drop=True)\n",
    "        if data.loc[i]['Cluster'] == mapped_target[0]:\n",
    "            data.at[i, 'Correct'] = 0\n",
    "        else:\n",
    "            data.at[i, 'Correct'] = 1\n",
    "        \n",
    "    \n",
    "                "
   ]
  },
  {
   "cell_type": "code",
   "execution_count": 409,
   "metadata": {},
   "outputs": [
    {
     "name": "stdout",
     "output_type": "stream",
     "text": [
      "Empty DataFrame\n",
      "Columns: []\n",
      "Index: []\n"
     ]
    }
   ],
   "source": [
    "\n",
    "data, centers = generate_guassian_data(3, 10, [0, 50], [0, 50], 1)\n",
    "centroids, iterations = k_means(data, 3, [0, 50], [0, 50])\n",
    "print(centers)"
   ]
  },
  {
   "cell_type": "code",
   "execution_count": null,
   "metadata": {},
   "outputs": [],
   "source": []
  }
 ],
 "metadata": {
  "kernelspec": {
   "display_name": "Python 3",
   "language": "python",
   "name": "python3"
  },
  "language_info": {
   "codemirror_mode": {
    "name": "ipython",
    "version": 3
   },
   "file_extension": ".py",
   "mimetype": "text/x-python",
   "name": "python",
   "nbconvert_exporter": "python",
   "pygments_lexer": "ipython3",
   "version": "3.6.5"
  }
 },
 "nbformat": 4,
 "nbformat_minor": 2
}
